{
 "cells": [
  {
   "cell_type": "markdown",
   "id": "6yDxo9u0d9Na",
   "metadata": {
    "id": "6yDxo9u0d9Na"
   },
   "source": [
    "# Project Business Statistics: E-news Express\n",
    "\n",
    "**Marks: 60**"
   ]
  },
  {
   "cell_type": "markdown",
   "id": "SrLd-ICEmPSD",
   "metadata": {
    "id": "SrLd-ICEmPSD"
   },
   "source": [
    "## Define Problem Statement and Objectives"
   ]
  },
  {
   "cell_type": "markdown",
   "id": "9Vt1PLLqmXNn",
   "metadata": {
    "id": "9Vt1PLLqmXNn"
   },
   "source": [
    "E-news Express is an online news portal with a goal of expanding its user base. The E-news Express Design team has created a new landing page in hopes of achieving a higher conversion rate than the existing landing page.  \n",
    "\n",
    "The E-news Express Data Science team conducted a random sampling of 100 users dividing them equally into two groups: the control group which experiences the exisitng landing page, and the treatment group which experiences the new landing page. \n",
    "\n",
    "The below analysis is to determine if the new landing page is more effective at converting new users to subscribers. All of the statistical analysis included below has a significance level of 5%. \n",
    "\n",
    "Data Dictionary\n",
    "The dataset contains the following categorical and continuous rows:\n",
    "\n",
    "*   user_id: Unique ID of the user\n",
    "*   group: identify if the user was part of the controll or treatment group.\n",
    "*   landing_page: Indicates if the user experienced the new or old landing page.\n",
    "*   time_spent_on_the_page\n",
    "*   converted: refers to the users who visit the landing page and get converted\n",
    "*   language_preferred\n"
   ]
  },
  {
   "cell_type": "markdown",
   "id": "a6a3d218",
   "metadata": {
    "id": "a6a3d218"
   },
   "source": [
    "## Import all the necessary libraries"
   ]
  },
  {
   "cell_type": "code",
   "execution_count": 43,
   "id": "658c5dec",
   "metadata": {
    "id": "658c5dec"
   },
   "outputs": [],
   "source": [
    "# Import libraries for data manipulation\n",
    "import numpy as np\n",
    "import pandas as pd\n",
    "\n",
    "# Import libraries for data visualization\n",
    "import matplotlib.pyplot as plt\n",
    "import seaborn as sns\n",
    "%matplotlib inline\n",
    "\n",
    "# Import libraries for statistical analysis\n",
    "import scipy.stats as stats"
   ]
  },
  {
   "cell_type": "markdown",
   "id": "6970dd99",
   "metadata": {
    "id": "6970dd99"
   },
   "source": [
    "## Reading the Data into a DataFrame"
   ]
  },
  {
   "cell_type": "code",
   "execution_count": 44,
   "id": "d3b95640",
   "metadata": {
    "id": "d3b95640"
   },
   "outputs": [],
   "source": [
    "# Read the data\n",
    "data=pd.read_csv('abtest.csv')\n",
    "\n",
    "# Copy the dataframe to prevent change to the original data\n",
    "df=data.copy()\n"
   ]
  },
  {
   "cell_type": "markdown",
   "id": "9d75cfa2",
   "metadata": {
    "id": "9d75cfa2"
   },
   "source": [
    "## Explore the dataset and extract insights using Exploratory Data Analysis"
   ]
  },
  {
   "cell_type": "code",
   "execution_count": 3,
   "id": "e1ad11d4",
   "metadata": {
    "id": "e1ad11d4"
   },
   "outputs": [
    {
     "data": {
      "text/html": [
       "<div>\n",
       "<style scoped>\n",
       "    .dataframe tbody tr th:only-of-type {\n",
       "        vertical-align: middle;\n",
       "    }\n",
       "\n",
       "    .dataframe tbody tr th {\n",
       "        vertical-align: top;\n",
       "    }\n",
       "\n",
       "    .dataframe thead th {\n",
       "        text-align: right;\n",
       "    }\n",
       "</style>\n",
       "<table border=\"1\" class=\"dataframe\">\n",
       "  <thead>\n",
       "    <tr style=\"text-align: right;\">\n",
       "      <th></th>\n",
       "      <th>user_id</th>\n",
       "      <th>group</th>\n",
       "      <th>landing_page</th>\n",
       "      <th>time_spent_on_the_page</th>\n",
       "      <th>converted</th>\n",
       "      <th>language_preferred</th>\n",
       "    </tr>\n",
       "  </thead>\n",
       "  <tbody>\n",
       "    <tr>\n",
       "      <th>0</th>\n",
       "      <td>546592</td>\n",
       "      <td>control</td>\n",
       "      <td>old</td>\n",
       "      <td>3.48</td>\n",
       "      <td>no</td>\n",
       "      <td>Spanish</td>\n",
       "    </tr>\n",
       "    <tr>\n",
       "      <th>1</th>\n",
       "      <td>546468</td>\n",
       "      <td>treatment</td>\n",
       "      <td>new</td>\n",
       "      <td>7.13</td>\n",
       "      <td>yes</td>\n",
       "      <td>English</td>\n",
       "    </tr>\n",
       "    <tr>\n",
       "      <th>2</th>\n",
       "      <td>546462</td>\n",
       "      <td>treatment</td>\n",
       "      <td>new</td>\n",
       "      <td>4.40</td>\n",
       "      <td>no</td>\n",
       "      <td>Spanish</td>\n",
       "    </tr>\n",
       "    <tr>\n",
       "      <th>3</th>\n",
       "      <td>546567</td>\n",
       "      <td>control</td>\n",
       "      <td>old</td>\n",
       "      <td>3.02</td>\n",
       "      <td>no</td>\n",
       "      <td>French</td>\n",
       "    </tr>\n",
       "    <tr>\n",
       "      <th>4</th>\n",
       "      <td>546459</td>\n",
       "      <td>treatment</td>\n",
       "      <td>new</td>\n",
       "      <td>4.75</td>\n",
       "      <td>yes</td>\n",
       "      <td>Spanish</td>\n",
       "    </tr>\n",
       "  </tbody>\n",
       "</table>\n",
       "</div>"
      ],
      "text/plain": [
       "   user_id      group landing_page  time_spent_on_the_page converted  \\\n",
       "0   546592    control          old                    3.48        no   \n",
       "1   546468  treatment          new                    7.13       yes   \n",
       "2   546462  treatment          new                    4.40        no   \n",
       "3   546567    control          old                    3.02        no   \n",
       "4   546459  treatment          new                    4.75       yes   \n",
       "\n",
       "  language_preferred  \n",
       "0            Spanish  \n",
       "1            English  \n",
       "2            Spanish  \n",
       "3             French  \n",
       "4            Spanish  "
      ]
     },
     "execution_count": 3,
     "metadata": {},
     "output_type": "execute_result"
    }
   ],
   "source": [
    "# Return the first 5 rows\n",
    "df.head()"
   ]
  },
  {
   "cell_type": "code",
   "execution_count": 4,
   "id": "231da3a3",
   "metadata": {},
   "outputs": [
    {
     "name": "stdout",
     "output_type": "stream",
     "text": [
      "There are 100 rows and 6 columns.\n"
     ]
    }
   ],
   "source": [
    "# Check the shape of the data\n",
    "print('There are', df.shape[0], 'rows and', df.shape[1], 'columns.')"
   ]
  },
  {
   "cell_type": "code",
   "execution_count": 5,
   "id": "5f69dfdd",
   "metadata": {},
   "outputs": [
    {
     "name": "stdout",
     "output_type": "stream",
     "text": [
      "There are 0 duplicates in the dataset.\n"
     ]
    }
   ],
   "source": [
    "# Check for duplicates\n",
    "print('There are', df.duplicated().sum(), 'duplicates in the dataset.')"
   ]
  },
  {
   "cell_type": "code",
   "execution_count": 6,
   "id": "7364402c",
   "metadata": {},
   "outputs": [
    {
     "data": {
      "text/plain": [
       "user_id                   0\n",
       "group                     0\n",
       "landing_page              0\n",
       "time_spent_on_the_page    0\n",
       "converted                 0\n",
       "language_preferred        0\n",
       "dtype: int64"
      ]
     },
     "execution_count": 6,
     "metadata": {},
     "output_type": "execute_result"
    }
   ],
   "source": [
    "# Check for missing values\n",
    "df.isnull().sum()"
   ]
  },
  {
   "cell_type": "markdown",
   "id": "afde11d4",
   "metadata": {},
   "source": [
    "There are no missing values in the dataset.\n",
    "We can move forward assuming this dataset follows a normal distribution as the random sampling size remains greater than 30."
   ]
  },
  {
   "cell_type": "code",
   "execution_count": 7,
   "id": "a04cd7c8",
   "metadata": {},
   "outputs": [
    {
     "name": "stdout",
     "output_type": "stream",
     "text": [
      "<class 'pandas.core.frame.DataFrame'>\n",
      "RangeIndex: 100 entries, 0 to 99\n",
      "Data columns (total 6 columns):\n",
      " #   Column                  Non-Null Count  Dtype  \n",
      "---  ------                  --------------  -----  \n",
      " 0   user_id                 100 non-null    int64  \n",
      " 1   group                   100 non-null    object \n",
      " 2   landing_page            100 non-null    object \n",
      " 3   time_spent_on_the_page  100 non-null    float64\n",
      " 4   converted               100 non-null    object \n",
      " 5   language_preferred      100 non-null    object \n",
      "dtypes: float64(1), int64(1), object(4)\n",
      "memory usage: 4.8+ KB\n"
     ]
    }
   ],
   "source": [
    "# Review a summary of the dataset\n",
    "df.info()"
   ]
  },
  {
   "cell_type": "markdown",
   "id": "e9ee9b23",
   "metadata": {},
   "source": [
    "Out of the 6 columns 2 are numerical and 4 columns are categorical.\n",
    "This means our initial statistical analysis will be limited, and insight gained will be about the time spent on the page."
   ]
  },
  {
   "cell_type": "code",
   "execution_count": 8,
   "id": "f4884935",
   "metadata": {},
   "outputs": [
    {
     "data": {
      "text/html": [
       "<div>\n",
       "<style scoped>\n",
       "    .dataframe tbody tr th:only-of-type {\n",
       "        vertical-align: middle;\n",
       "    }\n",
       "\n",
       "    .dataframe tbody tr th {\n",
       "        vertical-align: top;\n",
       "    }\n",
       "\n",
       "    .dataframe thead th {\n",
       "        text-align: right;\n",
       "    }\n",
       "</style>\n",
       "<table border=\"1\" class=\"dataframe\">\n",
       "  <thead>\n",
       "    <tr style=\"text-align: right;\">\n",
       "      <th></th>\n",
       "      <th>count</th>\n",
       "      <th>mean</th>\n",
       "      <th>std</th>\n",
       "      <th>min</th>\n",
       "      <th>25%</th>\n",
       "      <th>50%</th>\n",
       "      <th>75%</th>\n",
       "      <th>max</th>\n",
       "    </tr>\n",
       "  </thead>\n",
       "  <tbody>\n",
       "    <tr>\n",
       "      <th>user_id</th>\n",
       "      <td>100.0</td>\n",
       "      <td>546517.0000</td>\n",
       "      <td>52.295779</td>\n",
       "      <td>546443.00</td>\n",
       "      <td>546467.75</td>\n",
       "      <td>546492.500</td>\n",
       "      <td>546567.2500</td>\n",
       "      <td>546592.00</td>\n",
       "    </tr>\n",
       "    <tr>\n",
       "      <th>time_spent_on_the_page</th>\n",
       "      <td>100.0</td>\n",
       "      <td>5.3778</td>\n",
       "      <td>2.378166</td>\n",
       "      <td>0.19</td>\n",
       "      <td>3.88</td>\n",
       "      <td>5.415</td>\n",
       "      <td>7.0225</td>\n",
       "      <td>10.71</td>\n",
       "    </tr>\n",
       "  </tbody>\n",
       "</table>\n",
       "</div>"
      ],
      "text/plain": [
       "                        count         mean        std        min        25%  \\\n",
       "user_id                 100.0  546517.0000  52.295779  546443.00  546467.75   \n",
       "time_spent_on_the_page  100.0       5.3778   2.378166       0.19       3.88   \n",
       "\n",
       "                               50%          75%        max  \n",
       "user_id                 546492.500  546567.2500  546592.00  \n",
       "time_spent_on_the_page       5.415       7.0225      10.71  "
      ]
     },
     "execution_count": 8,
     "metadata": {},
     "output_type": "execute_result"
    }
   ],
   "source": [
    "# Perform initial statistical analysis of dataset\n",
    "df.describe().T"
   ]
  },
  {
   "cell_type": "markdown",
   "id": "9c0cb1dd",
   "metadata": {},
   "source": [
    "The average time spent on E-news Express website is 5.38 minutes. \n",
    "The median time spent was 5.41 minutes. While th median is slighlty higher than the mean, this sample will still be considered a normal distribution.  \n"
   ]
  },
  {
   "cell_type": "markdown",
   "id": "68f3b2c9",
   "metadata": {
    "id": "68f3b2c9"
   },
   "source": [
    "### Univariate Analysis"
   ]
  },
  {
   "cell_type": "code",
   "execution_count": 9,
   "id": "21897790",
   "metadata": {},
   "outputs": [
    {
     "name": "stdout",
     "output_type": "stream",
     "text": [
      "The number of users is\n",
      "546592    1\n",
      "546590    1\n",
      "546444    1\n",
      "546452    1\n",
      "546476    1\n",
      "         ..\n",
      "546464    1\n",
      "546575    1\n",
      "546471    1\n",
      "546586    1\n",
      "546483    1\n",
      "Name: user_id, Length: 100, dtype: int64\n"
     ]
    }
   ],
   "source": [
    "# Value counts for users\n",
    "print(\"The number of users is\")\n",
    "print(df.user_id.value_counts())"
   ]
  },
  {
   "cell_type": "markdown",
   "id": "c6189223",
   "metadata": {},
   "source": [
    "There are 100 unique users in this sample."
   ]
  },
  {
   "cell_type": "code",
   "execution_count": 10,
   "id": "1932d0f3",
   "metadata": {
    "id": "1932d0f3"
   },
   "outputs": [
    {
     "name": "stdout",
     "output_type": "stream",
     "text": [
      "The count in each test group is\n",
      "control      50\n",
      "treatment    50\n",
      "Name: group, dtype: int64\n",
      "The number of users experiencing each landing page\n",
      "old    50\n",
      "new    50\n",
      "Name: landing_page, dtype: int64\n"
     ]
    }
   ],
   "source": [
    "# Value counts for group\n",
    "print(\"The count in each test group is\")\n",
    "print(df.group.value_counts())\n",
    "\n",
    "# Value counts for landing page\n",
    "print(\"The number of users experiencing each landing page\")\n",
    "print(df.landing_page.value_counts())"
   ]
  },
  {
   "cell_type": "markdown",
   "id": "fee84522",
   "metadata": {},
   "source": [
    "The counts in the group and landing page column confirm the random sample was divided equally as indicated in the business case."
   ]
  },
  {
   "cell_type": "code",
   "execution_count": 11,
   "id": "01d61c9d",
   "metadata": {},
   "outputs": [
    {
     "data": {
      "text/plain": [
       "yes    54\n",
       "no     46\n",
       "Name: converted, dtype: int64"
      ]
     },
     "execution_count": 11,
     "metadata": {},
     "output_type": "execute_result"
    }
   ],
   "source": [
    "# Value counts for converted\n",
    "df.converted.value_counts()"
   ]
  },
  {
   "cell_type": "markdown",
   "id": "393fbeab",
   "metadata": {},
   "source": [
    "The conversion rates can be converted to the following proportions:\n",
    "*   Converted proportion 54:100\n",
    "*   Unconverted proportion 46:100\n",
    "\n",
    "While the converted group is a larger proportion, there is still room for improvement as the business case indicates."
   ]
  },
  {
   "cell_type": "code",
   "execution_count": 76,
   "id": "d6b602f4",
   "metadata": {},
   "outputs": [
    {
     "data": {
      "image/png": "[encoded data removed]",
      "text/plain": [
       "<Figure size 432x288 with 1 Axes>"
      ]
     },
     "metadata": {
      "needs_background": "light"
     },
     "output_type": "display_data"
    }
   ],
   "source": [
    "# Create a countplot with seaborn for the different languages\n",
    "sns.countplot(data=df, x='language_preferred')\n",
    "plt.show;"
   ]
  },
  {
   "cell_type": "code",
   "execution_count": 12,
   "id": "febbb602",
   "metadata": {},
   "outputs": [
    {
     "data": {
      "text/plain": [
       "Spanish    34\n",
       "French     34\n",
       "English    32\n",
       "Name: language_preferred, dtype: int64"
      ]
     },
     "execution_count": 12,
     "metadata": {},
     "output_type": "execute_result"
    }
   ],
   "source": [
    "# Value counts for different languages\n",
    "df.language_preferred.value_counts()"
   ]
  },
  {
   "cell_type": "markdown",
   "id": "c0b1dfe4",
   "metadata": {},
   "source": [
    "\n",
    "There is a fairly equal distribution between users preferring Spanish, English, and French languages.\n",
    "Further analysis will be conducted to see if the language groups were evenly distributed through the control and treatment groups. "
   ]
  },
  {
   "cell_type": "code",
   "execution_count": 14,
   "id": "5525525c",
   "metadata": {},
   "outputs": [
    {
     "data": {
      "image/png": "[encoded data removed]",
      "text/plain": [
       "<Figure size 432x288 with 1 Axes>"
      ]
     },
     "metadata": {
      "needs_background": "light"
     },
     "output_type": "display_data"
    },
    {
     "data": {
      "image/png": "[encoded data removed]",
      "text/plain": [
       "<Figure size 432x288 with 1 Axes>"
      ]
     },
     "metadata": {
      "needs_background": "light"
     },
     "output_type": "display_data"
    }
   ],
   "source": [
    "# Create a histplot with seaborn for time spent on the page\n",
    "sns.histplot(df, x='time_spent_on_the_page', kde='True');\n",
    "plt.show()\n",
    "\n",
    "# Create a boxplot with seaborn for the time spent on the page\n",
    "sns.boxplot(data=df, x='time_spent_on_the_page');\n",
    "plt.show()"
   ]
  },
  {
   "cell_type": "markdown",
   "id": "a24acce0",
   "metadata": {},
   "source": [
    "The time spent on the page is a normal distribution and does not show any outliers that would highly skew the data.\n",
    "The innerquartile range indicates a majority of users spent between 3.88 to 7.02 minutes on the site."
   ]
  },
  {
   "cell_type": "markdown",
   "id": "fad2de2f",
   "metadata": {
    "id": "fad2de2f"
   },
   "source": [
    "### Bivariate Analysis"
   ]
  },
  {
   "cell_type": "code",
   "execution_count": 60,
   "id": "58e9a1d0",
   "metadata": {
    "id": "58e9a1d0"
   },
   "outputs": [
    {
     "data": {
      "image/png": "[encoded data removed]",
      "text/plain": [
       "<Figure size 432x288 with 1 Axes>"
      ]
     },
     "metadata": {
      "needs_background": "light"
     },
     "output_type": "display_data"
    }
   ],
   "source": [
    "# Create a countplot using seaborn for the landing page and language preferred columns. \n",
    "sns.countplot(data=df, x='group', hue='language_preferred');\n",
    "plt.legend(bbox_to_anchor=(1.01,1), loc='upper left', borderaxespad=0);"
   ]
  },
  {
   "cell_type": "markdown",
   "id": "a34c5217",
   "metadata": {},
   "source": [
    "The control and treatment groups had an equal number of users for each language evaluated in the sample. This will be helpful insight when we determine if language preference has any impact on conversion rates. "
   ]
  },
  {
   "cell_type": "code",
   "execution_count": 42,
   "id": "50453f7d",
   "metadata": {},
   "outputs": [
    {
     "data": {
      "image/png": "[encoded data removed]",
      "text/plain": [
       "<Figure size 432x288 with 1 Axes>"
      ]
     },
     "metadata": {
      "needs_background": "light"
     },
     "output_type": "display_data"
    }
   ],
   "source": [
    "# Create a swarm plot using seaborn to compare the conversion rate to the time spent on the two types of landing pages\n",
    "sns.swarmplot(data=df, x='landing_page', y='time_spent_on_the_page', hue='converted');\n",
    "plt.legend(loc='lower right')\n",
    "plt.show()\n"
   ]
  },
  {
   "cell_type": "markdown",
   "id": "f814e5a8",
   "metadata": {},
   "source": [
    "The points of this swarmplot show us each user's time on the page and if they converted or not. For both versions of the landing page we see that if users spend at least 5 minutes, they are likely to convert into subscribers. The new landing page is more successful at keeping users engaged for a longer time than the old landing page. "
   ]
  },
  {
   "cell_type": "code",
   "execution_count": 16,
   "id": "122c2a7a",
   "metadata": {},
   "outputs": [
    {
     "data": {
      "image/png": "[encoded data removed]",
      "text/plain": [
       "<Figure size 432x288 with 1 Axes>"
      ]
     },
     "metadata": {
      "needs_background": "light"
     },
     "output_type": "display_data"
    }
   ],
   "source": [
    "# Create a scatter chart using seaborn for the language preferred and converted columns.\n",
    "sns.stripplot(data=df, x='time_spent_on_the_page', y='language_preferred', hue='converted');\n",
    "plt.legend(bbox_to_anchor=(1.02,1), loc='upper left', borderaxespad=0)\n",
    "plt.show()"
   ]
  },
  {
   "cell_type": "markdown",
   "id": "672fad32",
   "metadata": {},
   "source": [
    "We see across each language group, users who spend more than 5 minutes on the page are more likely to convert into subscribers. "
   ]
  },
  {
   "cell_type": "code",
   "execution_count": 18,
   "id": "0496b4e9",
   "metadata": {},
   "outputs": [
    {
     "data": {
      "image/png": "[encoded data removed]",
      "text/plain": [
       "<Figure size 432x288 with 1 Axes>"
      ]
     },
     "metadata": {
      "needs_background": "light"
     },
     "output_type": "display_data"
    }
   ],
   "source": [
    "# Create a countplot comparing the conversion rate for each landing page\n",
    "sns.countplot(data=df, x='landing_page', hue='converted');"
   ]
  },
  {
   "cell_type": "markdown",
   "id": "1c421281",
   "metadata": {},
   "source": [
    "This visualization indicates that in this sample dataset, the newer landing page has a higher conversion rate. We will need to test this hypothesis to see if it could be true for the population as well. "
   ]
  },
  {
   "cell_type": "markdown",
   "id": "27906576",
   "metadata": {
    "id": "27906576"
   },
   "source": [
    "## 1. Do the users spend more time on the new landing page than the existing landing page?"
   ]
  },
  {
   "cell_type": "markdown",
   "id": "e5fdf0c8",
   "metadata": {
    "id": "e5fdf0c8"
   },
   "source": [
    "### Perform Visual Analysis"
   ]
  },
  {
   "cell_type": "code",
   "execution_count": 19,
   "id": "6eZJa41eg21n",
   "metadata": {
    "id": "6eZJa41eg21n"
   },
   "outputs": [
    {
     "data": {
      "image/png": "[encoded data removed]",
      "text/plain": [
       "<Figure size 360x360 with 1 Axes>"
      ]
     },
     "metadata": {
      "needs_background": "light"
     },
     "output_type": "display_data"
    }
   ],
   "source": [
    "# Create a box plot to compare the time spent on each of the landing pages\n",
    "sns.catplot(data=df, y='time_spent_on_the_page', x='landing_page', kind='box');\n",
    "plt.show()"
   ]
  },
  {
   "cell_type": "markdown",
   "id": "56b3dafd",
   "metadata": {
    "id": "56b3dafd"
   },
   "source": [
    "### Step 1: Define the null and alternate hypotheses"
   ]
  },
  {
   "cell_type": "markdown",
   "id": "46ed8d18",
   "metadata": {},
   "source": [
    "The null and alternative hypotheses can be formulated as: \n",
    "\n",
    "  $H_0$: The average time spent on the existing landing page and new landing page are equal.\n",
    "\n",
    "  $H_a$: The average time spent on the new landing page is greater than the existing landing page. \n",
    "\n",
    "Alternatively, this can be formulated as:\n",
    "\n",
    "  $H_0$: $μ_1$ = $μ_2$ \n",
    "\n",
    "  $H_a$: $μ_1$ <  $μ_2$"
   ]
  },
  {
   "cell_type": "markdown",
   "id": "c7ee4907",
   "metadata": {
    "id": "c7ee4907"
   },
   "source": [
    "### Step 2: Select Appropriate test"
   ]
  },
  {
   "cell_type": "markdown",
   "id": "2c183cd7",
   "metadata": {
    "id": "2c183cd7"
   },
   "source": [
    "The randomply sampled 100 users indicates this dataset follows a normal distribution. While the population standard deviation is unknown, the fact the sample deviations for the two samples are unequal indicate the population standard deviation is unequal as well. \n",
    "\n",
    "Based on these facts, the appropriate test would be a two sample t-test."
   ]
  },
  {
   "cell_type": "markdown",
   "id": "3f58c9a7",
   "metadata": {
    "id": "3f58c9a7"
   },
   "source": [
    "### Step 3: Decide the significance level"
   ]
  },
  {
   "cell_type": "markdown",
   "id": "92d7d7ee",
   "metadata": {
    "id": "92d7d7ee"
   },
   "source": [
    "The business case included with this data set provides a a level of significance of .05."
   ]
  },
  {
   "cell_type": "markdown",
   "id": "5fed2eac",
   "metadata": {
    "id": "5fed2eac"
   },
   "source": [
    "### Step 4: Collect and prepare data"
   ]
  },
  {
   "cell_type": "code",
   "execution_count": 20,
   "id": "f5a59495",
   "metadata": {
    "id": "f5a59495"
   },
   "outputs": [
    {
     "name": "stdout",
     "output_type": "stream",
     "text": [
      "The sample standard deviation for the new page is: 1.82\n",
      "The sample standard deviation for the old page is: 2.58\n"
     ]
    }
   ],
   "source": [
    "# Create new Series for time spent on the new landing page and old landing page\n",
    "new_page_time=df[df['landing_page']=='new']['time_spent_on_the_page']\n",
    "old_page_time=df[df['landing_page']=='old']['time_spent_on_the_page']\n",
    "\n",
    "# Determine the sample standard deviation for the time spent on the new and old landing page\n",
    "print('The sample standard deviation for the new page is:', round(new_page_time.std(),2))\n",
    "print('The sample standard deviation for the old page is:', round(old_page_time.std(),2))"
   ]
  },
  {
   "cell_type": "markdown",
   "id": "f5c5258d",
   "metadata": {
    "id": "f5c5258d"
   },
   "source": [
    "### Step 5: Calculate the p-value"
   ]
  },
  {
   "cell_type": "code",
   "execution_count": 21,
   "id": "fac8594a",
   "metadata": {
    "id": "fac8594a"
   },
   "outputs": [
    {
     "name": "stdout",
     "output_type": "stream",
     "text": [
      "0.0001392381225166549\n"
     ]
    }
   ],
   "source": [
    "# Import the function necessary to conduct a 2 Sample T-test for equality of means\n",
    "from scipy.stats import ttest_ind\n",
    "\n",
    "# Calculate the test statistic and p value using 2 sample independent t-test\n",
    "test_stat, p_value=ttest_ind(new_page_time, old_page_time, equal_var=False, alternative='greater')\n",
    "print(p_value)\n"
   ]
  },
  {
   "cell_type": "markdown",
   "id": "359b12f8",
   "metadata": {
    "id": "359b12f8"
   },
   "source": [
    "### Step 6: Compare the p-value with $\\alpha$"
   ]
  },
  {
   "cell_type": "code",
   "execution_count": 22,
   "id": "7be47289",
   "metadata": {
    "id": "7be47289"
   },
   "outputs": [
    {
     "name": "stdout",
     "output_type": "stream",
     "text": [
      "As the p-value 0.0001392381225166549 is less than the level of significance, we reject the null hypothesis.\n"
     ]
    }
   ],
   "source": [
    "# Compare the p-value with level of significance to determine null hypothesis validity\n",
    "if p_value < 0.05:\n",
    "    print(f'As the p-value {p_value} is less than the level of significance, we reject the null hypothesis.')\n",
    "else:\n",
    "    print(f'As the p_value {p_value} is greater than the level of significance, we fail to reject the null hypothesis.')"
   ]
  },
  {
   "cell_type": "markdown",
   "id": "d9affc84",
   "metadata": {
    "id": "d9affc84"
   },
   "source": [
    "### Step 7:  Draw inference"
   ]
  },
  {
   "cell_type": "markdown",
   "id": "6b16dd4b",
   "metadata": {
    "id": "6b16dd4b"
   },
   "source": [
    "The p-value is less than the level of significance which indicates the mean time spent on the new landing page is greater than that of the old landing page."
   ]
  },
  {
   "cell_type": "markdown",
   "id": "353e9d24",
   "metadata": {
    "id": "353e9d24"
   },
   "source": [
    "## 2. Is the conversion rate (the proportion of users who visit the landing page and get converted) for the new page greater than the conversion rate for the old page?"
   ]
  },
  {
   "cell_type": "code",
   "execution_count": 23,
   "id": "7d981b7c",
   "metadata": {
    "scrolled": true
   },
   "outputs": [
    {
     "data": {
      "image/png": "[encoded data removed]",
      "text/plain": [
       "<Figure size 432x576 with 1 Axes>"
      ]
     },
     "metadata": {
      "needs_background": "light"
     },
     "output_type": "display_data"
    }
   ],
   "source": [
    "# Visualize the conversion rate for the new and old landing page\n",
    "pd.crosstab(df['landing_page'],df['converted'],normalize='index').plot(kind=\"bar\", figsize=(6,8),stacked=True)\n",
    "plt.legend()\n",
    "plt.show()"
   ]
  },
  {
   "cell_type": "markdown",
   "id": "613e291d",
   "metadata": {},
   "source": [
    "### Define the null and alternate hypotheses"
   ]
  },
  {
   "cell_type": "markdown",
   "id": "129aa2ca",
   "metadata": {
    "id": "b7f52898"
   },
   "source": [
    "The null and alternative hypotheses can be formulated as: \n",
    "\n",
    "$H_0$: The mean conversion rate for the old landing page and the new page are equal.  \n",
    "\n",
    "$H_a$: The mean conversion rate for the new landing page is greater than the old landing page. \n",
    "\n",
    "Alternatively, this can be formulated as:\n",
    "\n",
    "  $H_0$: $μ_1$ = $μ_2$ \n",
    "\n",
    "  $H_a$: $μ_1$ <  $μ_2$"
   ]
  },
  {
   "cell_type": "markdown",
   "id": "ed91d524",
   "metadata": {},
   "source": [
    "### Select and Implement Appropriate Test"
   ]
  },
  {
   "cell_type": "code",
   "execution_count": 24,
   "id": "94c9c99c",
   "metadata": {},
   "outputs": [],
   "source": [
    "# Count the number of converted users for the treatment group\n",
    "new_converted=df[df['group']=='treatment']['converted'].value_counts()['yes']\n",
    "# Count the number of converted users for the control group\n",
    "old_converted=df[df['group']=='control']['converted'].value_counts()['yes']\n",
    "# Count the users in the control group\n",
    "n_control=df.group.value_counts()['control']\n",
    "# Count the users in the treatment group\n",
    "n_treatment=df.group.value_counts()['treatment']"
   ]
  },
  {
   "cell_type": "markdown",
   "id": "02cd9597",
   "metadata": {},
   "source": [
    "Since we are comparing the sample proportions for 2 populations it would be appropriate to use a 2 sample z-test for this question. As mentioned in the business case, the level of significance is .05.  "
   ]
  },
  {
   "cell_type": "code",
   "execution_count": 25,
   "id": "fa5c36a6",
   "metadata": {},
   "outputs": [
    {
     "name": "stdout",
     "output_type": "stream",
     "text": [
      "The p-value is 0.008026308204056278\n"
     ]
    }
   ],
   "source": [
    "# Import the proportions z-test from statsmodels.stats\n",
    "from statsmodels.stats.proportion import proportions_ztest\n",
    "# Calculate the test statistic and p-value\n",
    "test_stat2, p_value2=proportions_ztest([new_converted, old_converted],[n_treatment, n_control], alternative='larger')\n",
    "print('The p-value is', p_value2)"
   ]
  },
  {
   "cell_type": "markdown",
   "id": "02b427b5",
   "metadata": {},
   "source": [
    "### Compare the p-value with $\\alpha$ and draw inferences"
   ]
  },
  {
   "cell_type": "code",
   "execution_count": 26,
   "id": "acddda68",
   "metadata": {},
   "outputs": [
    {
     "name": "stdout",
     "output_type": "stream",
     "text": [
      "As the p-value 0.008026308204056278 is less than the level of significance, we reject the null hypothesis.\n"
     ]
    }
   ],
   "source": [
    "# Compare the p-value with level of significance to determine null hypothesis validity\n",
    "if p_value2 < 0.05:\n",
    "    print(f'As the p-value {p_value2} is less than the level of significance, we reject the null hypothesis.')\n",
    "else:\n",
    "    print(f'As the p_value {p_value2} is greater than the level of significance, we fail to reject the null hypothesis.')"
   ]
  },
  {
   "cell_type": "markdown",
   "id": "5e64a488",
   "metadata": {},
   "source": [
    "As the null hypothesis is rejected, we can move forward assuming the alternative hypothesis is true. This means the conversion rate for the new landing page is higher than the previous page, and it is achieving it's goal.  We also see in the cross tabulation at the beginning of the question that the sample's new page conversion rate is greater than the old page."
   ]
  },
  {
   "cell_type": "markdown",
   "id": "d49bfa2d",
   "metadata": {
    "id": "d49bfa2d"
   },
   "source": [
    "## 3. Is the conversion and preferred language independent or related?"
   ]
  },
  {
   "cell_type": "code",
   "execution_count": 27,
   "id": "2a26343b",
   "metadata": {},
   "outputs": [
    {
     "data": {
      "image/png": "[encoded data removed]",
      "text/plain": [
       "<Figure size 432x288 with 1 Axes>"
      ]
     },
     "metadata": {
      "needs_background": "light"
     },
     "output_type": "display_data"
    }
   ],
   "source": [
    "# Create a bar graph using seaborn for the language preferred and converted columns.\n",
    "sns.countplot(data=df, x='converted', hue='language_preferred');\n",
    "plt.show()"
   ]
  },
  {
   "cell_type": "markdown",
   "id": "be726d61",
   "metadata": {},
   "source": [
    "### Define the null and alternate hypotheses"
   ]
  },
  {
   "cell_type": "markdown",
   "id": "7a1342b8",
   "metadata": {},
   "source": [
    "The null and alternative hypotheses can be formulated as: \n",
    "\n",
    "$H_0$: The conversion rate and preferred language are independent.\n",
    "\n",
    "$H_a$: The conversion rate and preferred language are dependent. "
   ]
  },
  {
   "cell_type": "markdown",
   "id": "91bc4541",
   "metadata": {},
   "source": [
    "### Select and Implement Appropriate Test"
   ]
  },
  {
   "cell_type": "code",
   "execution_count": 28,
   "id": "b0e63f17",
   "metadata": {
    "id": "b0e63f17"
   },
   "outputs": [
    {
     "data": {
      "text/html": [
       "<div>\n",
       "<style scoped>\n",
       "    .dataframe tbody tr th:only-of-type {\n",
       "        vertical-align: middle;\n",
       "    }\n",
       "\n",
       "    .dataframe tbody tr th {\n",
       "        vertical-align: top;\n",
       "    }\n",
       "\n",
       "    .dataframe thead th {\n",
       "        text-align: right;\n",
       "    }\n",
       "</style>\n",
       "<table border=\"1\" class=\"dataframe\">\n",
       "  <thead>\n",
       "    <tr style=\"text-align: right;\">\n",
       "      <th>converted</th>\n",
       "      <th>no</th>\n",
       "      <th>yes</th>\n",
       "    </tr>\n",
       "    <tr>\n",
       "      <th>language_preferred</th>\n",
       "      <th></th>\n",
       "      <th></th>\n",
       "    </tr>\n",
       "  </thead>\n",
       "  <tbody>\n",
       "    <tr>\n",
       "      <th>English</th>\n",
       "      <td>11</td>\n",
       "      <td>21</td>\n",
       "    </tr>\n",
       "    <tr>\n",
       "      <th>French</th>\n",
       "      <td>19</td>\n",
       "      <td>15</td>\n",
       "    </tr>\n",
       "    <tr>\n",
       "      <th>Spanish</th>\n",
       "      <td>16</td>\n",
       "      <td>18</td>\n",
       "    </tr>\n",
       "  </tbody>\n",
       "</table>\n",
       "</div>"
      ],
      "text/plain": [
       "converted           no  yes\n",
       "language_preferred         \n",
       "English             11   21\n",
       "French              19   15\n",
       "Spanish             16   18"
      ]
     },
     "execution_count": 28,
     "metadata": {},
     "output_type": "execute_result"
    }
   ],
   "source": [
    "# Create a contingency table consisting of language and converted columns\n",
    "contingency_table=pd.crosstab(df['language_preferred'], df['converted'])\n",
    "\n",
    "contingency_table"
   ]
  },
  {
   "cell_type": "markdown",
   "id": "2143a3b8",
   "metadata": {},
   "source": [
    "As we are comparing two cagtegorical variables, and the value of each sample observation level is at least 5, it would be appropriate to use a Chi Square test to calculate the p-value. Once again the level of significance is .05. "
   ]
  },
  {
   "cell_type": "code",
   "execution_count": 29,
   "id": "e9b3b3c1",
   "metadata": {},
   "outputs": [
    {
     "name": "stdout",
     "output_type": "stream",
     "text": [
      "The p_value is, 0.2129888748754345\n"
     ]
    }
   ],
   "source": [
    "# Import the necessary function from scipy.stats library\n",
    "from scipy.stats import chi2_contingency\n",
    "# Test for the independence of language and conversion rates\n",
    "chi2, p_value3, dof, exp_freq=chi2_contingency(contingency_table)\n",
    "print(\"The p_value is,\", p_value3)"
   ]
  },
  {
   "cell_type": "markdown",
   "id": "1df3a39d",
   "metadata": {},
   "source": [
    "### Compare the p-value with $\\alpha$ and draw inferences"
   ]
  },
  {
   "cell_type": "code",
   "execution_count": 30,
   "id": "00c14b48",
   "metadata": {},
   "outputs": [
    {
     "name": "stdout",
     "output_type": "stream",
     "text": [
      "As the p_value 0.2129888748754345 is greater than the level of significance, we fail to reject the null hypothesis.\n"
     ]
    }
   ],
   "source": [
    "# Compare p-value with level of significance to test null hypothesis validity\n",
    "if p_value3 < 0.05:\n",
    "    print(f'As the p-value {p_value3} is less than the level of significance, we reject the null hypothesis.')\n",
    "else:\n",
    "    print(f'As the p_value {p_value3} is greater than the level of significance, we fail to reject the null hypothesis.')"
   ]
  },
  {
   "cell_type": "markdown",
   "id": "d443e374",
   "metadata": {},
   "source": [
    "The test failed to prove that user conversion was dependent on language preference. This could indicate that the page's translation efforts are not impacting conversion rates of new users. "
   ]
  },
  {
   "cell_type": "markdown",
   "id": "8d585a90",
   "metadata": {
    "id": "8d585a90"
   },
   "source": [
    "## 4. Is the time spent on the new page same for the different language users?"
   ]
  },
  {
   "cell_type": "code",
   "execution_count": 31,
   "id": "e6a7a5b0",
   "metadata": {},
   "outputs": [],
   "source": [
    "# Create a new dataframe with only the new landing page data\n",
    "df_new=df[df['landing_page']=='new']"
   ]
  },
  {
   "cell_type": "code",
   "execution_count": 32,
   "id": "b422f395",
   "metadata": {
    "id": "b422f395"
   },
   "outputs": [
    {
     "data": {
      "image/png": "[encoded data removed]",
      "text/plain": [
       "<Figure size 432x288 with 1 Axes>"
      ]
     },
     "metadata": {
      "needs_background": "light"
     },
     "output_type": "display_data"
    }
   ],
   "source": [
    "# Visualize each language groups' time on the new landing page\n",
    "sns.boxplot(data=df_new, y='language_preferred', x='time_spent_on_the_page', showmeans=True);\n",
    "plt.show()"
   ]
  },
  {
   "cell_type": "code",
   "execution_count": 33,
   "id": "0456f12a",
   "metadata": {},
   "outputs": [
    {
     "data": {
      "text/plain": [
       "language_preferred\n",
       "English    6.663750\n",
       "French     6.196471\n",
       "Spanish    5.835294\n",
       "Name: time_spent_on_the_page, dtype: float64"
      ]
     },
     "execution_count": 33,
     "metadata": {},
     "output_type": "execute_result"
    }
   ],
   "source": [
    "# Calculate the mean time spent on the new page for each language\n",
    "df_new.groupby(['language_preferred'])['time_spent_on_the_page'].mean()"
   ]
  },
  {
   "cell_type": "markdown",
   "id": "7869eeeb",
   "metadata": {},
   "source": [
    "### Define the null and alternate hypotheses"
   ]
  },
  {
   "cell_type": "markdown",
   "id": "57276ca1",
   "metadata": {},
   "source": [
    "The null and alternative hypotheses can be formulated as: \n",
    "\n",
    "$H_0$: The mean time spent on the new page is equal across all languages. \n",
    "\n",
    "$H_a$: At least one of the languages has a different mean time spent on the new page than the other languages. "
   ]
  },
  {
   "cell_type": "markdown",
   "id": "7414e50f",
   "metadata": {},
   "source": [
    "### Select and Implement Appropriate Test"
   ]
  },
  {
   "cell_type": "markdown",
   "id": "7313294c",
   "metadata": {},
   "source": [
    "We are comparing the mean of 3 different variables, which will require us to use an ANOVA test. "
   ]
  },
  {
   "cell_type": "code",
   "execution_count": 34,
   "id": "30ffca59",
   "metadata": {},
   "outputs": [
    {
     "name": "stdout",
     "output_type": "stream",
     "text": [
      "The Shapiro-Wilks test p-value is 0.8040016293525696\n"
     ]
    }
   ],
   "source": [
    "# Conduct the Shapiro-Wilks test to check for normal distribution\n",
    "w, p_value4a=stats.shapiro(df_new['time_spent_on_the_page'])\n",
    "print('The Shapiro-Wilks test p-value is', p_value4a)"
   ]
  },
  {
   "cell_type": "code",
   "execution_count": 35,
   "id": "82c2d5f3",
   "metadata": {},
   "outputs": [
    {
     "name": "stdout",
     "output_type": "stream",
     "text": [
      "The Levene test p-value is 0.46711357711340173\n"
     ]
    }
   ],
   "source": [
    "# Conduct the Levene test to verify equality of variances\n",
    "statistic, p_value4b=stats.levene(df_new[df_new['language_preferred']=='English']['time_spent_on_the_page'], \n",
    "                                  df_new[df_new['language_preferred']=='Spanish']['time_spent_on_the_page'], \n",
    "                                  df_new[df_new['language_preferred']=='French']['time_spent_on_the_page'])\n",
    "print('The Levene test p-value is', p_value4b)"
   ]
  },
  {
   "cell_type": "markdown",
   "id": "46b382fd",
   "metadata": {},
   "source": [
    "The p-value for the Shapiro-Wilks test and the Leven test indicate we can move forward using the ANOVA method to answer this question. We will again use .05 as the level of significance. "
   ]
  },
  {
   "cell_type": "code",
   "execution_count": 36,
   "id": "f6c06afa",
   "metadata": {},
   "outputs": [],
   "source": [
    "# Create separate variables to store time spent on the page in light of three preferred languages\n",
    "time_spent_english=df_new[df_new['language_preferred']== 'English']['time_spent_on_the_page']\n",
    "time_spent_spanish=df_new[df_new['language_preferred']== 'Spanish']['time_spent_on_the_page']\n",
    "time_spent_french=df_new[df_new['language_preferred']== 'French']['time_spent_on_the_page']"
   ]
  },
  {
   "cell_type": "code",
   "execution_count": 37,
   "id": "2a957e52",
   "metadata": {
    "scrolled": true
   },
   "outputs": [
    {
     "name": "stdout",
     "output_type": "stream",
     "text": [
      "The p-value is 0.43204138694325955\n"
     ]
    }
   ],
   "source": [
    "# Import ANOVA function from scipy.stats library\n",
    "from scipy.stats import f_oneway\n",
    "# Find the p-value using the f-test\n",
    "test_stat4, p_value4=f_oneway(time_spent_english, time_spent_spanish, time_spent_french)\n",
    "print('The p-value is', p_value4)"
   ]
  },
  {
   "cell_type": "markdown",
   "id": "dbe38cf9",
   "metadata": {},
   "source": [
    "### Compare the p-value with $\\alpha$ and draw inferences"
   ]
  },
  {
   "cell_type": "code",
   "execution_count": 38,
   "id": "0ad51bef",
   "metadata": {},
   "outputs": [
    {
     "name": "stdout",
     "output_type": "stream",
     "text": [
      "As the p_value 0.43204138694325955 is greater than the level of significance, we fail to reject the null hypothesis.\n"
     ]
    }
   ],
   "source": [
    "# Compare p-value with level of significance to test null hypothesis validity\n",
    "if p_value4 < 0.05:\n",
    "    print(f'As the p-value {p_value4} is less than the level of significance, we reject the null hypothesis.')\n",
    "else:\n",
    "    print(f'As the p_value {p_value4} is greater than the level of significance, we fail to reject the null hypothesis.')"
   ]
  },
  {
   "cell_type": "markdown",
   "id": "0494892a",
   "metadata": {},
   "source": [
    "When looking at the sample mean in this question, it could lead one to think there is variance in time spent on the new page for each languag group. However, this ANOVA test reult proves the same assumption cannot be made about the population. We cannot reject the null hypothesis that the average time spent on the site for each language group is the same. "
   ]
  },
  {
   "cell_type": "markdown",
   "id": "3acbc947",
   "metadata": {
    "id": "3acbc947"
   },
   "source": [
    "## Conclusion and Business Recommendations"
   ]
  },
  {
   "cell_type": "markdown",
   "id": "21fb1063",
   "metadata": {
    "id": "21fb1063"
   },
   "source": [
    "#### Conclusions\n",
    "The central question of this business case is the efficacy of the new landing page. This notebook confirms that the new landing page is achieving a higher conversion rate than the old webiste. Here are a couple of key observations on this point: \n",
    "\n",
    "* In the sample when users spend more than 5 minutes on the site, they will likely convert into subrscribers. \n",
    "* The new landing page has a higher average time spent on the page compared to the old site, which could be why the new page is achieving it's goal of increasing conversion rates. \n",
    "* While the initial EDA confirmed the sample had a higher conversion rate for the new website, our hythosesis test also confirmed the population will show the new landing page is out performing the existing landing page. \n",
    "* The hypothesis test and bivariate analysis also confirmed that language did not have an impact on conversion rates. This seems to indicate the translation team did an excellent job of making sure users had a similar user experiences across the different languages. "
   ]
  },
  {
   "cell_type": "markdown",
   "id": "2a5cbf0a",
   "metadata": {},
   "source": [
    "#### Recommendations\n",
    "* It would be wise to revisit another sample in upcoming months to see if there is any change in customer behavior. \n",
    "* At that time further analysis can be done on if there is a correlation between converted status and time spent on the page.\n",
    "* In addition, further testing can be done to see if a user's preferred language has an impact on their time spent on the page. "
   ]
  },
  {
   "cell_type": "markdown",
   "id": "U0dAd4i0iCHo",
   "metadata": {
    "id": "U0dAd4i0iCHo"
   },
   "source": [
    "___"
   ]
  }
 ],
 "metadata": {
  "colab": {
   "collapsed_sections": [
    "a6a3d218",
    "6970dd99",
    "9d75cfa2",
    "68f3b2c9",
    "fad2de2f",
    "27906576",
    "e5fdf0c8",
    "56b3dafd",
    "c7ee4907",
    "3f58c9a7",
    "5fed2eac",
    "f5c5258d",
    "359b12f8",
    "d9affc84",
    "353e9d24",
    "d49bfa2d",
    "8d585a90",
    "3acbc947"
   ],
   "name": "ENews_Express_Learner_Notebook_Full_Code v1.1.ipynb",
   "provenance": []
  },
  "kernelspec": {
   "display_name": "Python 3 (ipykernel)",
   "language": "python",
   "name": "python3"
  },
  "language_info": {
   "codemirror_mode": {
    "name": "ipython",
    "version": 3
   },
   "file_extension": ".py",
   "mimetype": "text/x-python",
   "name": "python",
   "nbconvert_exporter": "python",
   "pygments_lexer": "ipython3",
   "version": "3.9.12"
  }
 },
 "nbformat": 4,
 "nbformat_minor": 5
}
